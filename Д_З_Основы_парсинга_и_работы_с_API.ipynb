{
  "nbformat": 4,
  "nbformat_minor": 0,
  "metadata": {
    "colab": {
      "name": "Д/З_Основы парсинга и работы с API_Глазкова_Оксана.ipynb",
      "provenance": [],
      "collapsed_sections": [],
      "include_colab_link": true
    },
    "kernelspec": {
      "name": "python3",
      "display_name": "Python 3"
    },
    "language_info": {
      "name": "python"
    }
  },
  "cells": [
    {
      "cell_type": "markdown",
      "metadata": {
        "id": "view-in-github",
        "colab_type": "text"
      },
      "source": [
        "<a href=\"https://colab.research.google.com/github/OksanaGlazkova/Numpy-pandas/blob/main/%D0%94_%D0%97_%D0%9E%D1%81%D0%BD%D0%BE%D0%B2%D1%8B_%D0%BF%D0%B0%D1%80%D1%81%D0%B8%D0%BD%D0%B3%D0%B0_%D0%B8_%D1%80%D0%B0%D0%B1%D0%BE%D1%82%D1%8B_%D1%81_API.ipynb\" target=\"_parent\"><img src=\"https://colab.research.google.com/assets/colab-badge.svg\" alt=\"Open In Colab\"/></a>"
      ]
    },
    {
      "cell_type": "markdown",
      "metadata": {
        "id": "QQAFfSSv-unR"
      },
      "source": [
        "**Задание 1.** Обязательная часть Будем парсить страницу со свежеми новостям на habr.com/ru/all/.\n",
        "\n",
        "Вам необходимо собирать только те статьи, в которых встречается хотя бы одно требуемое ключевое слово. Эти слова определяем в начале кода в переменной, например:\n",
        "\n",
        "KEYWORDS = [‘python’, ‘парсинг’]\n",
        "\n",
        "Поиск вести по всей доступной preview-информации (это информация, доступная непосредственно с текущей страницы).\n",
        "\n",
        "В итоге должен формироваться датафрейм вида: <дата> - <заголовок> - <ссылка>\n",
        "\n",
        "Дополнительная часть (необязательная) Улучшить скрипт так, чтобы он анализировал не только preview-информацию статьи, но и весь текст статьи целиком.\n",
        "\n",
        "Для этого потребуется получать страницы статей и искать по тексту внутри этой страницы.\n",
        "\n",
        "Итоговый датафрейм формировать со столбцами: <дата> - <заголовок> - <ссылка> - <текст_статьи>"
      ]
    },
    {
      "cell_type": "code",
      "metadata": {
        "id": "xaEBcwQ3-kmw"
      },
      "source": [
        "import requests"
      ],
      "execution_count": null,
      "outputs": []
    },
    {
      "cell_type": "code",
      "metadata": {
        "id": "oOlt06qe-69q"
      },
      "source": [
        "from bs4 import BeautifulSoup"
      ],
      "execution_count": null,
      "outputs": []
    },
    {
      "cell_type": "code",
      "metadata": {
        "id": "2IIOUT-V_EE0"
      },
      "source": [
        "import time"
      ],
      "execution_count": null,
      "outputs": []
    },
    {
      "cell_type": "code",
      "metadata": {
        "id": "dTGi_R3IDcHW"
      },
      "source": [
        "import pandas as pd"
      ],
      "execution_count": null,
      "outputs": []
    },
    {
      "cell_type": "code",
      "metadata": {
        "id": "W06E9pJs_HAU"
      },
      "source": [
        "KEYWORDS = ['python', 'парсинг']"
      ],
      "execution_count": null,
      "outputs": []
    },
    {
      "cell_type": "code",
      "metadata": {
        "id": "5Hq-q8Rcwbdx"
      },
      "source": [
        "params = 'https://habr.com/ru/all/'"
      ],
      "execution_count": null,
      "outputs": []
    },
    {
      "cell_type": "code",
      "metadata": {
        "id": "aPg7ALLMwh5R"
      },
      "source": [
        "res = requests.get(params)"
      ],
      "execution_count": null,
      "outputs": []
    },
    {
      "cell_type": "code",
      "metadata": {
        "id": "eHQMyXKpPDZN"
      },
      "source": [
        "import re"
      ],
      "execution_count": null,
      "outputs": []
    },
    {
      "cell_type": "code",
      "metadata": {
        "colab": {
          "base_uri": "https://localhost:8080/"
        },
        "id": "ehlmPO3Z_OoN",
        "outputId": "bf0a3068-c3b0-4fe0-f2c5-e1468c6ce9c8"
      },
      "source": [
        "def get_all_links(url):\n",
        "    params = 'https://habr.com/ru/all/'\n",
        "    \n",
        "    res = requests.get(params)\n",
        "    soup = BeautifulSoup(res.text)\n",
        "    posts = soup.find_all('div', class_='tm-article-body')\n",
        "    a_list = list(map(lambda x: x.find('a').get('href'), posts))\n",
        "    all_refs = list(map(lambda x: 'https://habr.com' + x, a_list))\n",
        "    all_refs_post = re.findall(r'(https://habr.com/ru/post/\\d{6}/)', str(all_refs))\n",
        "\n",
        "    return all_refs_post\n",
        "\n",
        "all_links = get_all_links('https://habr.com/ru/all/')\n",
        "all_links"
      ],
      "execution_count": null,
      "outputs": [
        {
          "output_type": "execute_result",
          "data": {
            "text/plain": [
              "['https://habr.com/ru/post/587076/',\n",
              " 'https://habr.com/ru/post/586788/',\n",
              " 'https://habr.com/ru/post/585828/',\n",
              " 'https://habr.com/ru/post/587054/',\n",
              " 'https://habr.com/ru/post/587044/',\n",
              " 'https://habr.com/ru/post/469247/',\n",
              " 'https://habr.com/ru/post/587014/',\n",
              " 'https://habr.com/ru/post/587006/',\n",
              " 'https://habr.com/ru/post/586986/']"
            ]
          },
          "metadata": {},
          "execution_count": 109
        }
      ]
    },
    {
      "cell_type": "code",
      "metadata": {
        "colab": {
          "base_uri": "https://localhost:8080/",
          "height": 331
        },
        "id": "qz6wyPo2F5Y8",
        "outputId": "f6173789-725b-43d1-b6f6-f2098b516433"
      },
      "source": [
        "def get_word(url):\n",
        "  word = pd.DataFrame()\n",
        "  for link in all_links:\n",
        "    soup = BeautifulSoup(requests.get(link).text)\n",
        "    time.sleep(0.3)\n",
        "    if soup.find('span', class_='tm-article-snippet__datetime-published'):\n",
        "      date = pd.to_datetime(soup.find('span', class_='tm-article-snippet__datetime-published').find('time').get('datetime'), dayfirst=True).date()\n",
        "      time.sleep(0.3)\n",
        "    if soup.find('h2', class_='tm-article-snippet__title'):\n",
        "        title = soup.find('h2', class_='tm-article-snippet__title').text\n",
        "        time.sleep(0.3)\n",
        "    else:\n",
        "        title = soup.find('h1', class_='tm-article-snippet__title').text\n",
        "    text = soup.find('div', class_='tm-article-body').text\n",
        "    for w in text:\n",
        "      w_lower = w.lower()\n",
        "      if any([w_lower in desired for desired in KEYWORDS]):\n",
        "        text == text\n",
        "    row = {'date': date, 'title': title, 'text': text}\n",
        "    word = pd.concat([word, pd.DataFrame([row])])  \n",
        "  return word\n",
        "\n",
        "habr = get_word(all_links)\n",
        "habr"
      ],
      "execution_count": null,
      "outputs": [
        {
          "output_type": "execute_result",
          "data": {
            "text/html": [
              "<div>\n",
              "<style scoped>\n",
              "    .dataframe tbody tr th:only-of-type {\n",
              "        vertical-align: middle;\n",
              "    }\n",
              "\n",
              "    .dataframe tbody tr th {\n",
              "        vertical-align: top;\n",
              "    }\n",
              "\n",
              "    .dataframe thead th {\n",
              "        text-align: right;\n",
              "    }\n",
              "</style>\n",
              "<table border=\"1\" class=\"dataframe\">\n",
              "  <thead>\n",
              "    <tr style=\"text-align: right;\">\n",
              "      <th></th>\n",
              "      <th>date</th>\n",
              "      <th>title</th>\n",
              "      <th>text</th>\n",
              "    </tr>\n",
              "  </thead>\n",
              "  <tbody>\n",
              "    <tr>\n",
              "      <th>0</th>\n",
              "      <td>2021-11-02</td>\n",
              "      <td>Московский Сайлент-Хилл: естественного происхо...</td>\n",
              "      <td>С вечера понедельника и по текущий момент не у...</td>\n",
              "    </tr>\n",
              "    <tr>\n",
              "      <th>0</th>\n",
              "      <td>2021-11-02</td>\n",
              "      <td>Unreal engine — UMG Best Practices</td>\n",
              "      <td>Это перевод статьи Chris Gagnon, сотрудника Ep...</td>\n",
              "    </tr>\n",
              "    <tr>\n",
              "      <th>0</th>\n",
              "      <td>2021-11-02</td>\n",
              "      <td>NFT: особенности и возможности. OpenSea — плат...</td>\n",
              "      <td>\\n\\r\\nНа сегодняшний день в связи с пандемией ...</td>\n",
              "    </tr>\n",
              "    <tr>\n",
              "      <th>0</th>\n",
              "      <td>2021-11-02</td>\n",
              "      <td>Инвалидное кресло-каталка на электротяге</td>\n",
              "      <td>Два года назад помогал другу с постройкой элек...</td>\n",
              "    </tr>\n",
              "    <tr>\n",
              "      <th>0</th>\n",
              "      <td>2021-11-02</td>\n",
              "      <td>5 причин, почему не стоит становиться программ...</td>\n",
              "      <td>Достаточно людей очарованы программистами, и я...</td>\n",
              "    </tr>\n",
              "    <tr>\n",
              "      <th>0</th>\n",
              "      <td>2021-03-04</td>\n",
              "      <td>Простой способ получения ”Flicker-Off”: «отклю...</td>\n",
              "      <td>''Свобода* лучше, чем несвобода*''©\\n*от мерца...</td>\n",
              "    </tr>\n",
              "    <tr>\n",
              "      <th>0</th>\n",
              "      <td>2021-11-02</td>\n",
              "      <td>Работа с данными. FOR-архитектура, часть 1</td>\n",
              "      <td>Сразу извиняюсь за свою манеру повествования, ...</td>\n",
              "    </tr>\n",
              "    <tr>\n",
              "      <th>0</th>\n",
              "      <td>2021-11-02</td>\n",
              "      <td>MARVEL: интеграция со сторонней учетной системой</td>\n",
              "      <td>Немного о Marvel и его прошломКомпания «Марвел...</td>\n",
              "    </tr>\n",
              "    <tr>\n",
              "      <th>0</th>\n",
              "      <td>2021-11-02</td>\n",
              "      <td>HDR-видео и смартфон</td>\n",
              "      <td>Каждый, кто хоть чуть-чуть интересуется технол...</td>\n",
              "    </tr>\n",
              "  </tbody>\n",
              "</table>\n",
              "</div>"
            ],
            "text/plain": [
              "         date  ...                                               text\n",
              "0  2021-11-02  ...  С вечера понедельника и по текущий момент не у...\n",
              "0  2021-11-02  ...  Это перевод статьи Chris Gagnon, сотрудника Ep...\n",
              "0  2021-11-02  ...  \\n\\r\\nНа сегодняшний день в связи с пандемией ...\n",
              "0  2021-11-02  ...  Два года назад помогал другу с постройкой элек...\n",
              "0  2021-11-02  ...  Достаточно людей очарованы программистами, и я...\n",
              "0  2021-03-04  ...  ''Свобода* лучше, чем несвобода*''©\\n*от мерца...\n",
              "0  2021-11-02  ...  Сразу извиняюсь за свою манеру повествования, ...\n",
              "0  2021-11-02  ...  Немного о Marvel и его прошломКомпания «Марвел...\n",
              "0  2021-11-02  ...  Каждый, кто хоть чуть-чуть интересуется технол...\n",
              "\n",
              "[9 rows x 3 columns]"
            ]
          },
          "metadata": {},
          "execution_count": 110
        }
      ]
    },
    {
      "cell_type": "markdown",
      "metadata": {
        "id": "9wfftSsdhnpG"
      },
      "source": [
        "А можно ли так ещё? Ещё один вариант поиска по df:"
      ]
    },
    {
      "cell_type": "code",
      "metadata": {
        "colab": {
          "base_uri": "https://localhost:8080/",
          "height": 205
        },
        "id": "VpxHJSA8cDqb",
        "outputId": "0c42b3b1-28cc-4fa1-f8ab-532feb39bc05"
      },
      "source": [
        "habr[habr.text.str.contains(str(KEYWORDS))].head()"
      ],
      "execution_count": null,
      "outputs": [
        {
          "output_type": "execute_result",
          "data": {
            "text/html": [
              "<div>\n",
              "<style scoped>\n",
              "    .dataframe tbody tr th:only-of-type {\n",
              "        vertical-align: middle;\n",
              "    }\n",
              "\n",
              "    .dataframe tbody tr th {\n",
              "        vertical-align: top;\n",
              "    }\n",
              "\n",
              "    .dataframe thead th {\n",
              "        text-align: right;\n",
              "    }\n",
              "</style>\n",
              "<table border=\"1\" class=\"dataframe\">\n",
              "  <thead>\n",
              "    <tr style=\"text-align: right;\">\n",
              "      <th></th>\n",
              "      <th>date</th>\n",
              "      <th>title</th>\n",
              "      <th>text</th>\n",
              "    </tr>\n",
              "  </thead>\n",
              "  <tbody>\n",
              "    <tr>\n",
              "      <th>0</th>\n",
              "      <td>2021-11-02</td>\n",
              "      <td>Московский Сайлент-Хилл: естественного происхо...</td>\n",
              "      <td>С вечера понедельника и по текущий момент не у...</td>\n",
              "    </tr>\n",
              "    <tr>\n",
              "      <th>0</th>\n",
              "      <td>2021-11-02</td>\n",
              "      <td>Unreal engine — UMG Best Practices</td>\n",
              "      <td>Это перевод статьи Chris Gagnon, сотрудника Ep...</td>\n",
              "    </tr>\n",
              "    <tr>\n",
              "      <th>0</th>\n",
              "      <td>2021-11-02</td>\n",
              "      <td>NFT: особенности и возможности. OpenSea — плат...</td>\n",
              "      <td>\\n\\r\\nНа сегодняшний день в связи с пандемией ...</td>\n",
              "    </tr>\n",
              "    <tr>\n",
              "      <th>0</th>\n",
              "      <td>2021-11-02</td>\n",
              "      <td>Инвалидное кресло-каталка на электротяге</td>\n",
              "      <td>Два года назад помогал другу с постройкой элек...</td>\n",
              "    </tr>\n",
              "    <tr>\n",
              "      <th>0</th>\n",
              "      <td>2021-11-02</td>\n",
              "      <td>5 причин, почему не стоит становиться программ...</td>\n",
              "      <td>Достаточно людей очарованы программистами, и я...</td>\n",
              "    </tr>\n",
              "  </tbody>\n",
              "</table>\n",
              "</div>"
            ],
            "text/plain": [
              "         date  ...                                               text\n",
              "0  2021-11-02  ...  С вечера понедельника и по текущий момент не у...\n",
              "0  2021-11-02  ...  Это перевод статьи Chris Gagnon, сотрудника Ep...\n",
              "0  2021-11-02  ...  \\n\\r\\nНа сегодняшний день в связи с пандемией ...\n",
              "0  2021-11-02  ...  Два года назад помогал другу с постройкой элек...\n",
              "0  2021-11-02  ...  Достаточно людей очарованы программистами, и я...\n",
              "\n",
              "[5 rows x 3 columns]"
            ]
          },
          "metadata": {},
          "execution_count": 77
        }
      ]
    },
    {
      "cell_type": "markdown",
      "metadata": {
        "id": "kvevZMz8NCJ3"
      },
      "source": [
        "**Задание 2.**\n",
        "Обязательная часть\n",
        "Написать скрипт, который будет проверять список e-mail адресов на утечку при помощи сервиса Avast Hack Ckeck. Список email-ов задаем переменной в начале кода:\n",
        "EMAIL = [xxx@x.ru, yyy@y.com]\n",
        "\n",
        "В итоге должен формироваться датафрейм со столбцами: <дата утечки> - <источник утечки> - <описание утечки>\n",
        "\n",
        "Подсказка: сервис работает при помощи “скрытого” API. Внимательно изучите post-запросы."
      ]
    },
    {
      "cell_type": "code",
      "metadata": {
        "id": "rKW24jFWNM_4"
      },
      "source": [
        "import requests"
      ],
      "execution_count": null,
      "outputs": []
    },
    {
      "cell_type": "code",
      "metadata": {
        "id": "XP9N6n3sND5O"
      },
      "source": [
        "EMAIL = ['xxx@x.ru', 'yyy@y.com']"
      ],
      "execution_count": null,
      "outputs": []
    },
    {
      "cell_type": "code",
      "metadata": {
        "id": "T6ZDDOo3lt_Z"
      },
      "source": [
        "params = {\n",
        "    'emailAddresses': EMAIL\n",
        "    }"
      ],
      "execution_count": null,
      "outputs": []
    },
    {
      "cell_type": "code",
      "metadata": {
        "colab": {
          "base_uri": "https://localhost:8080/"
        },
        "id": "X6aDqsthqXjU",
        "outputId": "314732a5-dbc6-4a67-a56d-010f218c650f"
      },
      "source": [
        "print(params)"
      ],
      "execution_count": null,
      "outputs": [
        {
          "output_type": "stream",
          "name": "stdout",
          "text": [
            "{'emailAddresses': ['xxx@x.ru', 'yyy@y.com']}\n"
          ]
        }
      ]
    },
    {
      "cell_type": "code",
      "metadata": {
        "id": "ZlkS6_SBZXp-"
      },
      "source": [
        "headers = {\n",
        "    'Vaar-Header-App-Build-Version' : '1.0.0',\n",
        "    'Vaar-Header-App-Product' : 'hackcheck-web-avast',\n",
        "    'Vaar-Header-App-Product-Name' : 'hackcheck-web-avast',\n",
        "    'Vaar-Version' : '0'\n",
        "}"
      ],
      "execution_count": null,
      "outputs": []
    },
    {
      "cell_type": "code",
      "metadata": {
        "id": "Na7-5GECrxpU",
        "colab": {
          "base_uri": "https://localhost:8080/"
        },
        "outputId": "b381176b-e433-4b39-cc53-a17a730501aa"
      },
      "source": [
        "req = requests.post('https://identityprotection.avast.com/v1/web/query/site-breaches/unauthorized-data', headers=headers, json=params)\n",
        "req"
      ],
      "execution_count": null,
      "outputs": [
        {
          "output_type": "execute_result",
          "data": {
            "text/plain": [
              "<Response [200]>"
            ]
          },
          "metadata": {},
          "execution_count": 94
        }
      ]
    },
    {
      "cell_type": "code",
      "metadata": {
        "id": "o_LsrewtlnE6",
        "colab": {
          "base_uri": "https://localhost:8080/",
          "height": 108
        },
        "outputId": "c383a0a9-bbc8-4b39-92a1-6b28d76285a5"
      },
      "source": [
        "req.text"
      ],
      "execution_count": null,
      "outputs": [
        {
          "output_type": "execute_result",
          "data": {
            "application/vnd.google.colaboratory.intrinsic+json": {
              "type": "string"
            },
            "text/plain": [
              "'{\"breaches\":{\"2\":{\"breachId\":2,\"site\":\"linkedin.com\",\"recordsCount\":158591429,\"description\":\"In 2012, online professional networking platform LinkedIn fell victim to a breach of its members\\' passwords. Four years later, 117 million email and password combinations from that breach appeared for sale on a dark web marketplace. \\\\n\\\\nThe leaked passwords had only been protected by unsalted SHA-1 cryptographic hashing, which prompted LinkedIn to enforce salted hashing after the breach. Russian national Yevgeniy Nikulin was accused of the breach and was extradited from the Czech Republic to the United States as of March 2018.\",\"publishDate\":\"2016-10-21T00:00:00Z\",\"statistics\":{\"usernames\":0,\"passwords\":111975337,\"emails\":158591429}},\"3\":{\"breachId\":3,\"site\":\"adobe.com\",\"recordsCount\":152046506,\"description\":\"In October of 2013, criminals penetrated Adobe\\'s corporate network and the stole source code for several of its software products. The affected products included Adobe\\'s ColdFusion web application platform as well as the Acrobat suite of products. Adobe asserts that criminals also accessed nearly three-million customer credit card records and stole login data for an undisclosed number of Adobe user accounts.\",\"publishDate\":\"2016-10-21T00:00:00Z\",\"statistics\":{\"usernames\":0,\"passwords\":129430596,\"emails\":152046506}},\"12\":{\"breachId\":12,\"site\":\"vk.com\",\"recordsCount\":110121799,\"description\":\"Popular Russian social networking platform VKontakte was breached in late 2012. Over 100 million clear-text passwords were compromised in the breach. Breached credential sets included victims\\' e-mail addresses, passwords, dates of birth, phone numbers and location details. The credential set was advertised on a dark web marketplace as of June 2016 for a price of one bitcoin. \",\"publishDate\":\"2016-10-29T00:00:00Z\",\"statistics\":{\"usernames\":0,\"passwords\":107425364,\"emails\":104247327}},\"15\":{\"breachId\":15,\"site\":\"imesh.com\",\"recordsCount\":50913222,\"description\":\"In June 2016, a cache of over 51 million user credentials from the online sharing service iMesh appeared for sale on a dark web marketplace.  The database contained user email addresses, usernames, passwords, IP addresses and location.\",\"publishDate\":\"2016-10-23T00:00:00Z\",\"statistics\":{\"usernames\":50909015,\"passwords\":50913222,\"emails\":50913222}},\"41\":{\"breachId\":41,\"site\":\"dropbox.com\",\"recordsCount\":68591031,\"description\":\"Cloud storage company Dropbox suffered a major data breach in 2012. Criminals leveraged stolen employee login credentials to access a project document containing user email addresses and hashed passwords. Thanks to employees\\' passwords reuse between work and personal accounts, several matches were exploited, which ultimately lead to the full scope of the breach. It wasn\\'t until August 2016 that Dropbox confirmed over 68 million user credentials had been breached in 2012. In response, DropBox enforced a password reset for its users. \",\"publishDate\":\"2016-10-24T00:00:00Z\",\"statistics\":{\"usernames\":0,\"passwords\":68591031,\"emails\":68591031}},\"2961\":{\"breachId\":2961,\"site\":\"cdprojektred.com\",\"recordsCount\":1871459,\"description\":\"In March 2016, CDProjektRed.com.com\\'s forum database was breached. The attacker may have exploited a vulnerability in vBulletin. The stolen data contains over 1,870,000 user records including associated usernames, email addresses, hashed passwords, and salts. The leaked credentials are being shared and sold privately on the dark web.\",\"publishDate\":\"2017-01-31T00:00:00Z\",\"statistics\":{\"usernames\":1871410,\"passwords\":1871457,\"emails\":1871289}},\"3164\":{\"breachId\":3164,\"site\":\"cfire.mail.ru\",\"recordsCount\":12880232,\"description\":\"In July and August of 2016, two criminals carried out attacks on three separate forums hosted by Mail.ru, including CFire. The hackers used known SQL injection vulnerabilities found in older vBulletin forum software to obtain access to the databases. Shortly after the breach itself, the contents of CFire\\'s database were leaked publicly. The database contains usernames, email addresses, and MD5 hashed passwords for just under 13 million users.\",\"publishDate\":\"2017-02-14T00:00:00Z\",\"statistics\":{\"usernames\":12880232,\"passwords\":12880222,\"emails\":12845820}},\"3176\":{\"breachId\":3176,\"site\":\"parapa.mail.ru\",\"recordsCount\":5029003,\"description\":\"In July and August 2016, two criminals executed attacks against three separate forums hosted by Mail.ru including the Russian forum Parapa. Shortly after the breach occurred, the contents of Parapa\\'s database were leaked publicly. The database contains usernames, email addresses, and hashed passwords for around 5 million users.\",\"publishDate\":\"2017-02-14T00:00:00Z\",\"statistics\":{\"usernames\":5029000,\"passwords\":5029003,\"emails\":4941344}},\"3520\":{\"breachId\":3520,\"site\":\"globalreach.eu\",\"recordsCount\":921298,\"description\":\"In 2016, Global Reach Technology\\'s database was allegedly breached. The stolen records are being shared among private cirlces on the darknet.\",\"publishDate\":\"2017-03-15T00:00:00Z\",\"statistics\":{\"usernames\":13492,\"passwords\":921298,\"emails\":907696}},\"3587\":{\"breachId\":3587,\"site\":\"rayli.com.cn\",\"recordsCount\":4844179,\"description\":\"On an unconfirmed date, Chinese gossip site Rayli\\'s user database was allegedly breached. The stolen data contains over 4,850,000 records including email addresses, usernames, passwords, and salts. The compromised data is being shared privately among closed and trusted groups.\",\"publishDate\":\"2017-03-01T00:00:00Z\",\"statistics\":{\"usernames\":4841886,\"passwords\":4833694,\"emails\":4803135}},\"3669\":{\"breachId\":3669,\"site\":\"youku.com\",\"recordsCount\":94244880,\"description\":\"Youku is a large Chinese video content company whose user database was allegedly breached in 2016. The compromised data later appeared for sale on a dark web marketplace April 2017. The dark web listing advertised the sale of 100M user accounts.\",\"publishDate\":\"2017-03-24T00:00:00Z\",\"statistics\":{\"usernames\":0,\"passwords\":94238535,\"emails\":94244880}},\"13094\":{\"breachId\":13094,\"site\":\"myheritage.com\",\"recordsCount\":110041653,\"description\":\"In October 2017, a customer database belonging to online genealogy platform MyHeritage was breached. The stolen records included email addresses and SHA-1 hashed passwords, as well as sensitive PII. The data has been sold on at least one dark web market and is also being privately shared amongst several criminal groups.\",\"publishDate\":\"2017-11-04T00:00:00Z\",\"statistics\":{\"usernames\":0,\"passwords\":110041647,\"emails\":110041653}},\"13662\":{\"breachId\":13662,\"site\":\"netlog.com\",\"recordsCount\":52904632,\"description\":\"Netlog (formerly known as Facebox and Bingbox) was a Belgian social networking website specifically targeted at the global youth demographic. On Netlog, members could create their own web page, meet new people, chat, play games, share videos and post blogs.\\\\r\\\\n\\\\r\\\\nIn July 2018, Netlog sent out an email informing users registered before December 2012 that there was a security breach of their user database.\",\"publishDate\":\"2018-02-18T00:00:00Z\",\"statistics\":{\"usernames\":0,\"passwords\":52902665,\"emails\":52904632}},\"16768\":{\"breachId\":16768,\"site\":\"canva.com\",\"recordsCount\":137434010,\"description\":\"In May 2019, graphic-design site Canva\\'s database was allegedly breached. The stolen data contains usernames, passwords, email addresses and additional personal information. This breach is being privately shared on the internet.\",\"publishDate\":\"2019-06-13T00:00:00Z\",\"statistics\":{\"usernames\":137304104,\"passwords\":61348974,\"emails\":137402835}},\"17009\":{\"breachId\":17009,\"site\":\"zynga.com\",\"recordsCount\":216159495,\"description\":\"In September 2019, the game developer Zynga was allegedly breached. The stolen data contains usernames, passwords, salts, email addresses and additional personal information. This breach is being privately shared on the internet.\",\"publishDate\":\"2019-10-17T00:00:00Z\",\"statistics\":{\"usernames\":214648143,\"passwords\":134762791,\"emails\":159032663}},\"17110\":{\"breachId\":17110,\"site\":\"azcentral.com\",\"recordsCount\":705538,\"description\":\"At an unconfirmed date, online Arizona newspaper \\\\\"AZ Central\\\\\" was allegedly breached. The stolen data contains passwords and email addresses. This breach is being publicly shared on the internet.\",\"publishDate\":\"2020-01-03T00:00:00Z\",\"statistics\":{\"usernames\":0,\"passwords\":702971,\"emails\":705538}},\"17670\":{\"breachId\":17670,\"site\":\"wishbone.io\",\"recordsCount\":37475476,\"description\":\"In January 2020, the online poll website Wishbone was allegedly breached. The stolen data contains usernames, passwords, email addresses and additional personal information. This breach is being privately shared on the internet.\",\"publishDate\":\"2020-05-28T00:00:00Z\",\"statistics\":{\"usernames\":31111127,\"passwords\":10648734,\"emails\":10234249}},\"37177\":{\"breachId\":37177,\"site\":\"forums.vkmonline.com\",\"recordsCount\":825654,\"description\":\"At an unconfirmed date, the Russian-language music forum VKM was allegedly breached. The stolen data contains passwords, IPs, email addresses, usernames and additional personal information. This breach is being privately shared on the internet.\",\"publishDate\":\"2021-02-11T00:00:00Z\",\"statistics\":{\"usernames\":825566,\"passwords\":825654,\"emails\":824936}}},\"data\":{\"parapa.mail.ru\":{\"xxx@x.ru\":[{\"breachId\":3176,\"usernameBreached\":true,\"passwordBreached\":true}]},\"adobe.com\":{\"xxx@x.ru\":[{\"breachId\":3,\"usernameBreached\":false,\"passwordBreached\":true}],\"yyy@y.com\":[{\"breachId\":3,\"usernameBreached\":false,\"passwordBreached\":true}]},\"cdprojektred.com\":{\"xxx@x.ru\":[{\"breachId\":2961,\"usernameBreached\":true,\"passwordBreached\":true}]},\"azcentral.com\":{\"yyy@y.com\":[{\"breachId\":17110,\"usernameBreached\":false,\"passwordBreached\":true}]},\"linkedin.com\":{\"yyy@y.com\":[{\"breachId\":2,\"usernameBreached\":false,\"passwordBreached\":true}]},\"dropbox.com\":{\"yyy@y.com\":[{\"breachId\":41,\"usernameBreached\":false,\"passwordBreached\":true}]},\"wishbone.io\":{\"yyy@y.com\":[{\"breachId\":17670,\"usernameBreached\":true,\"passwordBreached\":true}]},\"youku.com\":{\"yyy@y.com\":[{\"breachId\":3669,\"usernameBreached\":false,\"passwordBreached\":true}]},\"myheritage.com\":{\"yyy@y.com\":[{\"breachId\":13094,\"usernameBreached\":false,\"passwordBreached\":true}]},\"rayli.com.cn\":{\"yyy@y.com\":[{\"breachId\":3587,\"usernameBreached\":true,\"passwordBreached\":true}]},\"canva.com\":{\"yyy@y.com\":[{\"breachId\":16768,\"usernameBreached\":true,\"passwordBreached\":true}]},\"globalreach.eu\":{\"yyy@y.com\":[{\"breachId\":3520,\"usernameBreached\":false,\"passwordBreached\":true}]},\"cfire.mail.ru\":{\"xxx@x.ru\":[{\"breachId\":3164,\"usernameBreached\":true,\"passwordBreached\":true}]},\"vk.com\":{\"xxx@x.ru\":[{\"breachId\":12,\"usernameBreached\":false,\"passwordBreached\":true}]},\"forums.vkmonline.com\":{\"yyy@y.com\":[{\"breachId\":37177,\"usernameBreached\":true,\"passwordBreached\":true}]},\"netlog.com\":{\"yyy@y.com\":[{\"breachId\":13662,\"usernameBreached\":false,\"passwordBreached\":true}]},\"imesh.com\":{\"xxx@x.ru\":[{\"breachId\":15,\"usernameBreached\":true,\"passwordBreached\":true}],\"yyy@y.com\":[{\"breachId\":15,\"usernameBreached\":true,\"passwordBreached\":true}]},\"zynga.com\":{\"yyy@y.com\":[{\"breachId\":17009,\"usernameBreached\":true,\"passwordBreached\":false}]}},\"summary\":{\"xxx@x.ru\":{\"breaches\":[3,12,15,2961,3164,3176]},\"yyy@y.com\":{\"breaches\":[2,3,15,41,3520,3587,3669,13094,13662,16768,17009,17110,17670,37177]}}}'"
            ]
          },
          "metadata": {},
          "execution_count": 95
        }
      ]
    },
    {
      "cell_type": "code",
      "metadata": {
        "id": "V98zS6TRlzX6"
      },
      "source": [
        "import json"
      ],
      "execution_count": null,
      "outputs": []
    },
    {
      "cell_type": "code",
      "metadata": {
        "id": "mRohHhgEnuHg"
      },
      "source": [
        "import pandas as pd"
      ],
      "execution_count": null,
      "outputs": []
    },
    {
      "cell_type": "code",
      "metadata": {
        "colab": {
          "base_uri": "https://localhost:8080/"
        },
        "id": "97_we0ifrmh8",
        "outputId": "ab5f6c84-2a72-41de-95db-668efbc4060e"
      },
      "source": [
        "req.json()['breaches']"
      ],
      "execution_count": null,
      "outputs": [
        {
          "output_type": "execute_result",
          "data": {
            "text/plain": [
              "{'12': {'breachId': 12,\n",
              "  'description': \"Popular Russian social networking platform VKontakte was breached in late 2012. Over 100 million clear-text passwords were compromised in the breach. Breached credential sets included victims' e-mail addresses, passwords, dates of birth, phone numbers and location details. The credential set was advertised on a dark web marketplace as of June 2016 for a price of one bitcoin. \",\n",
              "  'publishDate': '2016-10-29T00:00:00Z',\n",
              "  'recordsCount': 110121799,\n",
              "  'site': 'vk.com',\n",
              "  'statistics': {'emails': 104247327, 'passwords': 107425364, 'usernames': 0}},\n",
              " '13094': {'breachId': 13094,\n",
              "  'description': 'In October 2017, a customer database belonging to online genealogy platform MyHeritage was breached. The stolen records included email addresses and SHA-1 hashed passwords, as well as sensitive PII. The data has been sold on at least one dark web market and is also being privately shared amongst several criminal groups.',\n",
              "  'publishDate': '2017-11-04T00:00:00Z',\n",
              "  'recordsCount': 110041653,\n",
              "  'site': 'myheritage.com',\n",
              "  'statistics': {'emails': 110041653, 'passwords': 110041647, 'usernames': 0}},\n",
              " '13662': {'breachId': 13662,\n",
              "  'description': 'Netlog (formerly known as Facebox and Bingbox) was a Belgian social networking website specifically targeted at the global youth demographic. On Netlog, members could create their own web page, meet new people, chat, play games, share videos and post blogs.\\r\\n\\r\\nIn July 2018, Netlog sent out an email informing users registered before December 2012 that there was a security breach of their user database.',\n",
              "  'publishDate': '2018-02-18T00:00:00Z',\n",
              "  'recordsCount': 52904632,\n",
              "  'site': 'netlog.com',\n",
              "  'statistics': {'emails': 52904632, 'passwords': 52902665, 'usernames': 0}},\n",
              " '15': {'breachId': 15,\n",
              "  'description': 'In June 2016, a cache of over 51 million user credentials from the online sharing service iMesh appeared for sale on a dark web marketplace.  The database contained user email addresses, usernames, passwords, IP addresses and location.',\n",
              "  'publishDate': '2016-10-23T00:00:00Z',\n",
              "  'recordsCount': 50913222,\n",
              "  'site': 'imesh.com',\n",
              "  'statistics': {'emails': 50913222,\n",
              "   'passwords': 50913222,\n",
              "   'usernames': 50909015}},\n",
              " '16768': {'breachId': 16768,\n",
              "  'description': \"In May 2019, graphic-design site Canva's database was allegedly breached. The stolen data contains usernames, passwords, email addresses and additional personal information. This breach is being privately shared on the internet.\",\n",
              "  'publishDate': '2019-06-13T00:00:00Z',\n",
              "  'recordsCount': 137434010,\n",
              "  'site': 'canva.com',\n",
              "  'statistics': {'emails': 137402835,\n",
              "   'passwords': 61348974,\n",
              "   'usernames': 137304104}},\n",
              " '17009': {'breachId': 17009,\n",
              "  'description': 'In September 2019, the game developer Zynga was allegedly breached. The stolen data contains usernames, passwords, salts, email addresses and additional personal information. This breach is being privately shared on the internet.',\n",
              "  'publishDate': '2019-10-17T00:00:00Z',\n",
              "  'recordsCount': 216159495,\n",
              "  'site': 'zynga.com',\n",
              "  'statistics': {'emails': 159032663,\n",
              "   'passwords': 134762791,\n",
              "   'usernames': 214648143}},\n",
              " '17110': {'breachId': 17110,\n",
              "  'description': 'At an unconfirmed date, online Arizona newspaper \"AZ Central\" was allegedly breached. The stolen data contains passwords and email addresses. This breach is being publicly shared on the internet.',\n",
              "  'publishDate': '2020-01-03T00:00:00Z',\n",
              "  'recordsCount': 705538,\n",
              "  'site': 'azcentral.com',\n",
              "  'statistics': {'emails': 705538, 'passwords': 702971, 'usernames': 0}},\n",
              " '17670': {'breachId': 17670,\n",
              "  'description': 'In January 2020, the online poll website Wishbone was allegedly breached. The stolen data contains usernames, passwords, email addresses and additional personal information. This breach is being privately shared on the internet.',\n",
              "  'publishDate': '2020-05-28T00:00:00Z',\n",
              "  'recordsCount': 37475476,\n",
              "  'site': 'wishbone.io',\n",
              "  'statistics': {'emails': 10234249,\n",
              "   'passwords': 10648734,\n",
              "   'usernames': 31111127}},\n",
              " '2': {'breachId': 2,\n",
              "  'description': \"In 2012, online professional networking platform LinkedIn fell victim to a breach of its members' passwords. Four years later, 117 million email and password combinations from that breach appeared for sale on a dark web marketplace. \\n\\nThe leaked passwords had only been protected by unsalted SHA-1 cryptographic hashing, which prompted LinkedIn to enforce salted hashing after the breach. Russian national Yevgeniy Nikulin was accused of the breach and was extradited from the Czech Republic to the United States as of March 2018.\",\n",
              "  'publishDate': '2016-10-21T00:00:00Z',\n",
              "  'recordsCount': 158591429,\n",
              "  'site': 'linkedin.com',\n",
              "  'statistics': {'emails': 158591429, 'passwords': 111975337, 'usernames': 0}},\n",
              " '2961': {'breachId': 2961,\n",
              "  'description': \"In March 2016, CDProjektRed.com.com's forum database was breached. The attacker may have exploited a vulnerability in vBulletin. The stolen data contains over 1,870,000 user records including associated usernames, email addresses, hashed passwords, and salts. The leaked credentials are being shared and sold privately on the dark web.\",\n",
              "  'publishDate': '2017-01-31T00:00:00Z',\n",
              "  'recordsCount': 1871459,\n",
              "  'site': 'cdprojektred.com',\n",
              "  'statistics': {'emails': 1871289,\n",
              "   'passwords': 1871457,\n",
              "   'usernames': 1871410}},\n",
              " '3': {'breachId': 3,\n",
              "  'description': \"In October of 2013, criminals penetrated Adobe's corporate network and the stole source code for several of its software products. The affected products included Adobe's ColdFusion web application platform as well as the Acrobat suite of products. Adobe asserts that criminals also accessed nearly three-million customer credit card records and stole login data for an undisclosed number of Adobe user accounts.\",\n",
              "  'publishDate': '2016-10-21T00:00:00Z',\n",
              "  'recordsCount': 152046506,\n",
              "  'site': 'adobe.com',\n",
              "  'statistics': {'emails': 152046506, 'passwords': 129430596, 'usernames': 0}},\n",
              " '3164': {'breachId': 3164,\n",
              "  'description': \"In July and August of 2016, two criminals carried out attacks on three separate forums hosted by Mail.ru, including CFire. The hackers used known SQL injection vulnerabilities found in older vBulletin forum software to obtain access to the databases. Shortly after the breach itself, the contents of CFire's database were leaked publicly. The database contains usernames, email addresses, and MD5 hashed passwords for just under 13 million users.\",\n",
              "  'publishDate': '2017-02-14T00:00:00Z',\n",
              "  'recordsCount': 12880232,\n",
              "  'site': 'cfire.mail.ru',\n",
              "  'statistics': {'emails': 12845820,\n",
              "   'passwords': 12880222,\n",
              "   'usernames': 12880232}},\n",
              " '3176': {'breachId': 3176,\n",
              "  'description': \"In July and August 2016, two criminals executed attacks against three separate forums hosted by Mail.ru including the Russian forum Parapa. Shortly after the breach occurred, the contents of Parapa's database were leaked publicly. The database contains usernames, email addresses, and hashed passwords for around 5 million users.\",\n",
              "  'publishDate': '2017-02-14T00:00:00Z',\n",
              "  'recordsCount': 5029003,\n",
              "  'site': 'parapa.mail.ru',\n",
              "  'statistics': {'emails': 4941344,\n",
              "   'passwords': 5029003,\n",
              "   'usernames': 5029000}},\n",
              " '3520': {'breachId': 3520,\n",
              "  'description': \"In 2016, Global Reach Technology's database was allegedly breached. The stolen records are being shared among private cirlces on the darknet.\",\n",
              "  'publishDate': '2017-03-15T00:00:00Z',\n",
              "  'recordsCount': 921298,\n",
              "  'site': 'globalreach.eu',\n",
              "  'statistics': {'emails': 907696, 'passwords': 921298, 'usernames': 13492}},\n",
              " '3587': {'breachId': 3587,\n",
              "  'description': \"On an unconfirmed date, Chinese gossip site Rayli's user database was allegedly breached. The stolen data contains over 4,850,000 records including email addresses, usernames, passwords, and salts. The compromised data is being shared privately among closed and trusted groups.\",\n",
              "  'publishDate': '2017-03-01T00:00:00Z',\n",
              "  'recordsCount': 4844179,\n",
              "  'site': 'rayli.com.cn',\n",
              "  'statistics': {'emails': 4803135,\n",
              "   'passwords': 4833694,\n",
              "   'usernames': 4841886}},\n",
              " '3669': {'breachId': 3669,\n",
              "  'description': 'Youku is a large Chinese video content company whose user database was allegedly breached in 2016. The compromised data later appeared for sale on a dark web marketplace April 2017. The dark web listing advertised the sale of 100M user accounts.',\n",
              "  'publishDate': '2017-03-24T00:00:00Z',\n",
              "  'recordsCount': 94244880,\n",
              "  'site': 'youku.com',\n",
              "  'statistics': {'emails': 94244880, 'passwords': 94238535, 'usernames': 0}},\n",
              " '37177': {'breachId': 37177,\n",
              "  'description': 'At an unconfirmed date, the Russian-language music forum VKM was allegedly breached. The stolen data contains passwords, IPs, email addresses, usernames and additional personal information. This breach is being privately shared on the internet.',\n",
              "  'publishDate': '2021-02-11T00:00:00Z',\n",
              "  'recordsCount': 825654,\n",
              "  'site': 'forums.vkmonline.com',\n",
              "  'statistics': {'emails': 824936, 'passwords': 825654, 'usernames': 825566}},\n",
              " '41': {'breachId': 41,\n",
              "  'description': \"Cloud storage company Dropbox suffered a major data breach in 2012. Criminals leveraged stolen employee login credentials to access a project document containing user email addresses and hashed passwords. Thanks to employees' passwords reuse between work and personal accounts, several matches were exploited, which ultimately lead to the full scope of the breach. It wasn't until August 2016 that Dropbox confirmed over 68 million user credentials had been breached in 2012. In response, DropBox enforced a password reset for its users. \",\n",
              "  'publishDate': '2016-10-24T00:00:00Z',\n",
              "  'recordsCount': 68591031,\n",
              "  'site': 'dropbox.com',\n",
              "  'statistics': {'emails': 68591031, 'passwords': 68591031, 'usernames': 0}}}"
            ]
          },
          "metadata": {},
          "execution_count": 98
        }
      ]
    },
    {
      "cell_type": "code",
      "metadata": {
        "colab": {
          "base_uri": "https://localhost:8080/"
        },
        "id": "1HMfnOsRPywe",
        "outputId": "935191ad-aaae-42ff-cc46-d03be7865294"
      },
      "source": [
        "r = req.json()['breaches']\n",
        "for key, value in r.items():\n",
        "  val = pd.DataFrame(value)\n",
        "  \n",
        "print(val[['publishDate', 'site', 'description']])\n"
      ],
      "execution_count": null,
      "outputs": [
        {
          "output_type": "stream",
          "name": "stdout",
          "text": [
            "                    publishDate  ...                                        description\n",
            "emails     2021-02-11T00:00:00Z  ...  At an unconfirmed date, the Russian-language m...\n",
            "passwords  2021-02-11T00:00:00Z  ...  At an unconfirmed date, the Russian-language m...\n",
            "usernames  2021-02-11T00:00:00Z  ...  At an unconfirmed date, the Russian-language m...\n",
            "\n",
            "[3 rows x 3 columns]\n"
          ]
        }
      ]
    },
    {
      "cell_type": "markdown",
      "metadata": {
        "id": "BGJ41F4_iKt6"
      },
      "source": [
        "Кривовато, конечно, получилось)))"
      ]
    },
    {
      "cell_type": "markdown",
      "metadata": {
        "id": "bUB9PfphiSY6"
      },
      "source": [
        "Спасибо за внимание!☺"
      ]
    }
  ]
}